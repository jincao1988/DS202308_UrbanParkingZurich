{
 "cells": [
  {
   "cell_type": "code",
   "execution_count": 1,
   "metadata": {},
   "outputs": [],
   "source": [
    "import pandas as pd\n",
    "from urllib.request import urlopen\n",
    "import json\n",
    "import plotly.graph_objects as go\n",
    "import matplotlib.pyplot as plt\n",
    "import seaborn as sns\n",
    "import ee\n",
    "from functools import reduce\n",
    "from sklearn.mixture import GaussianMixture\n",
    "import numpy as np\n",
    "\n",
    "pd.options.plotting.backend = \"plotly\""
   ]
  },
  {
   "cell_type": "code",
   "execution_count": 2,
   "metadata": {},
   "outputs": [],
   "source": [
    "geo_url = 'https://www.ogd.stadt-zuerich.ch/wfs/geoportal/Oeffentlich_zugaengliche_Strassenparkplaetze_OGD?service=WFS&version=1.1.0&request=GetFeature&outputFormat=GeoJSON&typename=view_pp_ogd'\n",
    "\n",
    "with urlopen(geo_url) as response:\n",
    "    geo_data = json.load(response)\n",
    "\n",
    "df = pd.json_normalize(geo_data, \"features\")\n",
    "\n",
    "df[\"lon\"] = df[\"geometry.coordinates\"].apply(lambda row: row[0])\n",
    "df[\"lat\"] = df[\"geometry.coordinates\"].apply(lambda row: row[1])"
   ]
  },
  {
   "cell_type": "code",
   "execution_count": 3,
   "metadata": {},
   "outputs": [],
   "source": [
    "# ee.Authenticate()\n",
    "ee.Initialize()\n",
    "dataset = ee.ImageCollection(\"SKYSAT/GEN-A/PUBLIC/ORTHO/MULTISPECTRAL\") \n",
    "# dataset = ee.ImageCollection(\"COPERNICUS/S2_SR_HARMONIZED\") \n",
    "# dataset = ee.ImageCollection(\"COPERNICUS/S2_HARMONIZED\")\n",
    "# dataset = ee.ImageCollection(\"COPERNICUS/S1_GRD\").select(\"angle\")"
   ]
  },
  {
   "cell_type": "code",
   "execution_count": 4,
   "metadata": {},
   "outputs": [],
   "source": [
    "def process_point(coords, scale=2, buffer=False):\n",
    "    lon, lat = coords\n",
    "    if buffer:\n",
    "        poi = ee.Geometry.Point(lon, lat).buffer(buffer)\n",
    "    else:\n",
    "        poi = ee.Geometry.Point(lon, lat)\n",
    "\n",
    "    ts = dataset.getRegion(poi, scale).getInfo()\n",
    "\n",
    "    df = pd.DataFrame(ts[1:], columns=ts[0])\n",
    "    df = df.dropna()\n",
    "    df[\"datetime\"] = pd.to_datetime(df[\"time\"], unit=\"ms\")\n",
    "\n",
    "    return df\n",
    "\n",
    "test = df[\"geometry.coordinates\"][0:10].apply(lambda row: process_point(row))\n",
    "test = reduce(lambda x, y: pd.concat([x, y]), test)"
   ]
  },
  {
   "cell_type": "code",
   "execution_count": 13,
   "metadata": {},
   "outputs": [],
   "source": [
    "# sns.histplot(data = test2, x = \"angle\", bins=90)\n",
    "\n",
    "# sns.pairplot(test2[[f\"B{i}\" for i in range(1, 9)] + [\"B8A\", \"B9\", \"B11\", \"B12\"]], kind=\"hist\")\n",
    "\n",
    "# grouped = test2.groupby([\"longitude\", \"latitude\"])\n",
    "\n",
    "# fig = go.Figure()\n",
    "# for name, group in grouped:\n",
    "#     fig.add_scatter(name = str(name), x = group[\"B2\"], y = group[\"B3\"], mode=\"markers\")\n",
    "\n",
    "# fig.update_layout(\n",
    "#     height=600,\n",
    "#     width=900\n",
    "# )\n",
    "\n",
    "# fig.show()"
   ]
  },
  {
   "cell_type": "code",
   "execution_count": 7,
   "metadata": {},
   "outputs": [
    {
     "data": {
      "text/plain": [
       "<AxesSubplot: xlabel='B', ylabel='Count'>"
      ]
     },
     "execution_count": 7,
     "metadata": {},
     "output_type": "execute_result"
    },
    {
     "data": {
      "image/png": "[encoded data removed]",
      "text/plain": [
       "<Figure size 640x480 with 1 Axes>"
      ]
     },
     "metadata": {},
     "output_type": "display_data"
    }
   ],
   "source": [
    "num_test = test[[\"B\", \"G\", \"R\", \"N\", \"P\"]]\n",
    "# test3 = test2[[f\"B{i}\" for i in range(1, 4)]]\n",
    "res = GaussianMixture(n_components=2, covariance_type=\"full\").fit(num_test)\n",
    "test[\"label\"] = res.predict(num_test)\n",
    "sns.histplot(data=test, x=\"B\", hue=\"label\", bins=30)"
   ]
  }
 ],
 "metadata": {
  "kernelspec": {
   "display_name": "GDC",
   "language": "python",
   "name": "python3"
  },
  "language_info": {
   "codemirror_mode": {
    "name": "ipython",
    "version": 3
   },
   "file_extension": ".py",
   "mimetype": "text/x-python",
   "name": "python",
   "nbconvert_exporter": "python",
   "pygments_lexer": "ipython3",
   "version": "3.10.12"
  },
  "orig_nbformat": 4
 },
 "nbformat": 4,
 "nbformat_minor": 2
}
