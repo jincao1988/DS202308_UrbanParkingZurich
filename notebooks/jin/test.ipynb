{
 "cells": [
  {
   "cell_type": "code",
   "execution_count": 9,
   "metadata": {},
   "outputs": [
    {
     "ename": "SyntaxError",
     "evalue": "unterminated string literal (detected at line 42) (3281458746.py, line 42)",
     "output_type": "error",
     "traceback": [
      "\u001b[1;36m  Cell \u001b[1;32mIn[9], line 42\u001b[1;36m\u001b[0m\n\u001b[1;33m    We modify the hovertemplate property within the go.Scattermapbox trace to specify the content that will be displayed in the tooltip when hovering over each marker. We use %{text} to display the location (from the text property) and %{marker.color} to display the value (from the marker's color).\u001b[0m\n\u001b[1;37m                                                                                                                                                                                                                                                                                                 ^\u001b[0m\n\u001b[1;31mSyntaxError\u001b[0m\u001b[1;31m:\u001b[0m unterminated string literal (detected at line 42)\n"
     ]
    }
   ],
   "source": [
    "import plotly.graph_objects as go\n",
    "\n",
    "# Sample data\n",
    "locations = [\"New York\", \"Los Angeles\", \"Chicago\"]\n",
    "latitudes = [40.7128, 34.0522, 41.8781]\n",
    "longitudes = [-74.0060, -118.2437, -87.6298]\n",
    "values = [100, 200, 150]\n",
    "\n",
    "# Create a scatter map\n",
    "scatter_map = go.Figure()\n",
    "\n",
    "scatter_trace = go.Scattermapbox(\n",
    "    lat=latitudes,\n",
    "    lon=longitudes,\n",
    "    mode='markers',\n",
    "    marker=dict(\n",
    "        size=12,\n",
    "        color=values,\n",
    "        colorscale='Viridis',\n",
    "        colorbar=dict(title='Values'),\n",
    "    ),\n",
    "    text=locations,  # Specify text labels for each marker\n",
    "    hovertemplate='Location: %{text}<br>Value: %{marker.color}',\n",
    ")\n",
    "\n",
    "scatter_map.add_trace(scatter_trace)\n",
    "\n",
    "# Define the layout of the map\n",
    "scatter_map.update_layout(\n",
    "    mapbox=dict(\n",
    "        style='carto-positron',\n",
    "        center=dict(lon=-95, lat=30),\n",
    "        zoom=4,\n",
    "    ),\n",
    "    title='Scatter Map with Hovertemplate using Plotly',\n",
    ")\n",
    "\n",
    "# Show the map\n",
    "scatter_map.show()\n",
    "In this updated example:\n",
    "\n",
    "We modify the hovertemplate property within the go.Scattermapbox trace to specify the content that will be displayed in the tooltip when hovering over each marker. We use %{text} to display the location (from the text property) and %{marker.color} to display the value (from the marker's color).\n",
    "\n",
    "The hovertemplate string uses placeholders enclosed in %{} to reference specific values. %{text} refers to the location text, and %{marker.color} refers to the marker's color (which is set to the \"value\").\n",
    "\n",
    "Now, when you hover over each marker on the scatter map, the tooltip will display both the location and its associated value.\n",
    "\n",
    "\n",
    "\n",
    "\n",
    "\n"
   ]
  },
  {
   "cell_type": "code",
   "execution_count": null,
   "metadata": {},
   "outputs": [],
   "source": []
  }
 ],
 "metadata": {
  "kernelspec": {
   "display_name": "VIZ",
   "language": "python",
   "name": "python3"
  },
  "language_info": {
   "codemirror_mode": {
    "name": "ipython",
    "version": 3
   },
   "file_extension": ".py",
   "mimetype": "text/x-python",
   "name": "python",
   "nbconvert_exporter": "python",
   "pygments_lexer": "ipython3",
   "version": "3.10.9"
  },
  "orig_nbformat": 4
 },
 "nbformat": 4,
 "nbformat_minor": 2
}
